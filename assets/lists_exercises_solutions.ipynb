{
 "cells": [
  {
   "cell_type": "markdown",
   "metadata": {},
   "source": [
    "# Lists Exercises"
   ]
  },
  {
   "cell_type": "markdown",
   "metadata": {},
   "source": [
    "This is a notebook of lists exercises to get you up to speed with using lists. It isn't required for next class, but it will definitely make your life easier to work on this now as lists can be tricky!\n",
    "\n",
    "The exercises below will cover topics we may not have covered in class. I've included hints within the exercise that lead to the documentation. Do your best to read the docs - a little struggle is a good thing!"
   ]
  },
  {
   "cell_type": "markdown",
   "metadata": {},
   "source": [
    "#### Defining Lists"
   ]
  },
  {
   "cell_type": "markdown",
   "metadata": {},
   "source": [
    "Define a list, `names` with the following elements:\n",
    "<ul>\n",
    "    <li>Runa</li>\n",
    "    <li>Nevena</li>\n",
    "    <li>Sedar</li>\n",
    "    <li>Maija</li>\n",
    "    <li>Damian</li>\n",
    "    <li>Rieko</li>\n",
    "    <li>Dash</li>\n",
    "    <li>Angus</li>\n",
    "    <li>Medeeha</li>\n",
    "</ul>\n",
    "\n",
    "Once you have defined the list, `names`, use the `print()` function to report the contents to the terminal."
   ]
  },
  {
   "cell_type": "code",
   "execution_count": 1,
   "metadata": {},
   "outputs": [
    {
     "name": "stdout",
     "output_type": "stream",
     "text": [
      "['Runa', 'Nevena', 'Sedar', 'Maija', 'Damian', 'Rieko', 'Dash', 'Angus', 'Madeeha']\n"
     ]
    }
   ],
   "source": [
    "# A:\n",
    "names = [\n",
    "    'Runa',\n",
    "    'Nevena',\n",
    "    'Sedar',\n",
    "    'Maija',\n",
    "    'Damian',\n",
    "    'Rieko',\n",
    "    'Dash',\n",
    "    'Angus',\n",
    "    'Madeeha'\n",
    "]\n",
    "\n",
    "print(names)"
   ]
  },
  {
   "cell_type": "markdown",
   "metadata": {},
   "source": [
    "How many elements are in this list? Return the result as an integer value.\n",
    "<details>\n",
    "    <summary>Click for hint</summary>\n",
    "    Use the <a href=\"https://docs.python.org/3/library/functions.html#len\"><code>len</code></a> command!\n",
    "</details>"
   ]
  },
  {
   "cell_type": "code",
   "execution_count": 2,
   "metadata": {},
   "outputs": [
    {
     "data": {
      "text/plain": [
       "9"
      ]
     },
     "execution_count": 2,
     "metadata": {},
     "output_type": "execute_result"
    }
   ],
   "source": [
    "# A:\n",
    "len(names)"
   ]
  },
  {
   "cell_type": "markdown",
   "metadata": {},
   "source": [
    "#### List Slicing"
   ]
  },
  {
   "cell_type": "markdown",
   "metadata": {},
   "source": [
    "Return the first element in the `names` list, `'Runa'`"
   ]
  },
  {
   "cell_type": "code",
   "execution_count": 3,
   "metadata": {},
   "outputs": [
    {
     "data": {
      "text/plain": [
       "'Runa'"
      ]
     },
     "execution_count": 3,
     "metadata": {},
     "output_type": "execute_result"
    }
   ],
   "source": [
    "# A:\n",
    "names[0]"
   ]
  },
  {
   "cell_type": "markdown",
   "metadata": {},
   "source": [
    "Return the second element in the `names` list, `'Nevena'`"
   ]
  },
  {
   "cell_type": "code",
   "execution_count": 4,
   "metadata": {},
   "outputs": [
    {
     "data": {
      "text/plain": [
       "'Nevena'"
      ]
     },
     "execution_count": 4,
     "metadata": {},
     "output_type": "execute_result"
    }
   ],
   "source": [
    "# A:\n",
    "names[1]"
   ]
  },
  {
   "cell_type": "markdown",
   "metadata": {},
   "source": [
    "Use [negative indexing](http://effbot.org/zone/python-list.htm) to return the _last_ element in the list `names`, `'Madeeha'`."
   ]
  },
  {
   "cell_type": "code",
   "execution_count": 5,
   "metadata": {},
   "outputs": [
    {
     "data": {
      "text/plain": [
       "'Madeeha'"
      ]
     },
     "execution_count": 5,
     "metadata": {},
     "output_type": "execute_result"
    }
   ],
   "source": [
    "# A:\n",
    "names[-1]"
   ]
  },
  {
   "cell_type": "markdown",
   "metadata": {},
   "source": [
    "Use [negative indexing](http://effbot.org/zone/python-list.htm) to return the _second to last_ element in the list `names`, `'Angus'`."
   ]
  },
  {
   "cell_type": "code",
   "execution_count": 6,
   "metadata": {},
   "outputs": [
    {
     "data": {
      "text/plain": [
       "'Angus'"
      ]
     },
     "execution_count": 6,
     "metadata": {},
     "output_type": "execute_result"
    }
   ],
   "source": [
    "# A:\n",
    "names[-2]"
   ]
  },
  {
   "cell_type": "markdown",
   "metadata": {},
   "source": [
    "Use [negative indexing](http://effbot.org/zone/python-list.htm) to return the _last two_ elements in the list `names`, `['Angus', 'Madeeha']`.\n",
    "\n",
    "<ul>\n",
    "    <li>Are there multiple ways to achieve this output?</li>\n",
    "    <li>Try to come up with as many ways to achieve that result. Wrap the output of each scenario with a <code>print()</code> statement to demonstrate the different ways you can return the same output.</li>\n",
    "</ul>"
   ]
  },
  {
   "cell_type": "code",
   "execution_count": 7,
   "metadata": {},
   "outputs": [
    {
     "name": "stdout",
     "output_type": "stream",
     "text": [
      "['Angus', 'Madeeha']\n",
      "['Angus', 'Madeeha']\n",
      "['Angus', 'Madeeha']\n"
     ]
    }
   ],
   "source": [
    "# A:\n",
    "print(names[-2:])\n",
    "print(names[-2:len(names)])\n",
    "print(names[-2::])"
   ]
  },
  {
   "cell_type": "markdown",
   "metadata": {},
   "source": [
    "Return the first two names in the `names` list, `['Runa', 'Nevena']`. Remember the `[start:stop:step]` structure. \n",
    "<ul>\n",
    "    <li>Can any of the arguments (numbers) be omitted? If so, which ones?</li>\n",
    "    <li>Can you use different numbers or negative indexing to achieve the same result?</li>\n",
    "    <li>Can any extra colons be included? If so, which ones?</li>\n",
    "    <li>Wrap the output of each of the above scenarios with a <code>print()</code> statement to demonstrate the different ways you can return the same output.</li>\n",
    "<ul>"
   ]
  },
  {
   "cell_type": "code",
   "execution_count": 8,
   "metadata": {},
   "outputs": [
    {
     "name": "stdout",
     "output_type": "stream",
     "text": [
      "['Runa', 'Nevena']\n",
      "['Runa', 'Nevena']\n",
      "['Runa', 'Nevena']\n",
      "['Runa', 'Nevena']\n"
     ]
    }
   ],
   "source": [
    "# A:\n",
    "print(names[0:2])\n",
    "print(names[:2])\n",
    "print(names[:2:])\n",
    "print(names[:-7:])"
   ]
  },
  {
   "cell_type": "markdown",
   "metadata": {},
   "source": [
    "Return the following elements from the `names` list. \n",
    "```python\n",
    "['Runa', 'Sedar', 'Damian', 'Dash', 'Madeeha']\n",
    "```\n",
    "\n",
    "For your reference, here is the original list, `names`:\n",
    "```python\n",
    "['Runa', 'Nevena', 'Sedar', 'Maija', 'Damian', 'Rieko', 'Dash', 'Angus', 'Madeeha']\n",
    "```\n",
    "\n",
    "In contrast to the previous exercises, attempt to use as few extraneous numbers as possible in your final solution. "
   ]
  },
  {
   "cell_type": "code",
   "execution_count": 9,
   "metadata": {},
   "outputs": [
    {
     "data": {
      "text/plain": [
       "['Runa', 'Sedar', 'Damian', 'Dash', 'Madeeha']"
      ]
     },
     "execution_count": 9,
     "metadata": {},
     "output_type": "execute_result"
    }
   ],
   "source": [
    "# A:\n",
    "names[::2]"
   ]
  },
  {
   "cell_type": "markdown",
   "metadata": {},
   "source": [
    "Return the following elements from the `names` list. Note that the desired result is the `reverse` of the original list. That is to say, the last element is now the first element, and vice-versa.\n",
    "```python\n",
    "['Madeeha', 'Angus', 'Dash', 'Rieko', 'Damian', 'Maija', 'Sedar', 'Nevena', 'Runa']\n",
    "```\n",
    "\n",
    "For your reference, here is the original list, `names`:\n",
    "```python\n",
    "['Runa', 'Nevena', 'Sedar', 'Maija', 'Damian', 'Rieko', 'Dash', 'Angus', 'Madeeha']\n",
    "```"
   ]
  },
  {
   "cell_type": "code",
   "execution_count": 10,
   "metadata": {},
   "outputs": [
    {
     "name": "stdout",
     "output_type": "stream",
     "text": [
      "['Madeeha', 'Angus', 'Dash', 'Rieko', 'Damian', 'Maija', 'Sedar', 'Nevena', 'Runa']\n"
     ]
    }
   ],
   "source": [
    "# A:\n",
    "print(names[::-1])"
   ]
  },
  {
   "cell_type": "markdown",
   "metadata": {},
   "source": [
    "Return the following elements from the `names` list. \n",
    "```python\n",
    "['Nevena', 'Damian', 'Angus']\n",
    "```\n",
    "\n",
    "For your reference, here is the original list, `names`:\n",
    "```python\n",
    "['Runa', 'Nevena', 'Sedar', 'Maija', 'Damian', 'Rieko', 'Dash', 'Angus', 'Madeeha']\n",
    "```"
   ]
  },
  {
   "cell_type": "code",
   "execution_count": 11,
   "metadata": {},
   "outputs": [
    {
     "data": {
      "text/plain": [
       "['Nevena', 'Damian', 'Angus']"
      ]
     },
     "execution_count": 11,
     "metadata": {},
     "output_type": "execute_result"
    }
   ],
   "source": [
    "# A:\n",
    "names[1::3]"
   ]
  }
 ],
 "metadata": {
  "kernelspec": {
   "display_name": "Python 3",
   "language": "python",
   "name": "python3"
  },
  "language_info": {
   "codemirror_mode": {
    "name": "ipython",
    "version": 3
   },
   "file_extension": ".py",
   "mimetype": "text/x-python",
   "name": "python",
   "nbconvert_exporter": "python",
   "pygments_lexer": "ipython3",
   "version": "3.6.6"
  }
 },
 "nbformat": 4,
 "nbformat_minor": 2
}
